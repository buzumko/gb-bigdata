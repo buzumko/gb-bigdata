{
 "cells": [
  {
   "cell_type": "code",
   "execution_count": 1,
   "metadata": {},
   "outputs": [],
   "source": [
    "import pandas as pd # import lib "
   ]
  },
  {
   "cell_type": "code",
   "execution_count": 3,
   "metadata": {},
   "outputs": [
    {
     "name": "stdout",
     "output_type": "stream",
     "text": [
      "   author_id author_name\n",
      "0          1    Тургенев\n",
      "1          2       Чехов\n",
      "2          3  Островский\n",
      "   author_id            book_title  price\n",
      "0          1           Отцы и дети    450\n",
      "1          1                 Рудин    300\n",
      "2          1     Дворянское гнездо    350\n",
      "3          2      Толстый и тонкий    500\n",
      "4          2       Дама с собачкой    450\n",
      "5          3                 Гроза    370\n",
      "6          3  Таланты и поклонники    290\n"
     ]
    }
   ],
   "source": [
    "# Импортируйте библиотеку Pandas и дайте ей псевдоним pd. \n",
    "# Создайте датафрейм authors со столбцами author_id и author_name, в которых соответственно содержатся данные: \n",
    "# [1, 2, 3] и ['Тургенев', 'Чехов', 'Островский'].\n",
    "# Затем создайте датафрейм book cо столбцами author_id, book_title и price, в которых соответственно содержатся данные:  \n",
    "# [1, 1, 1, 2, 2, 3, 3],\n",
    "# ['Отцы и дети', 'Рудин', 'Дворянское гнездо', 'Толстый и тонкий', 'Дама с собачкой', 'Гроза', 'Таланты и поклонники'],\n",
    "# [450, 300, 350, 500, 450, 370, 290].\n",
    "\n",
    "\n",
    "a = {\n",
    "    'author_id': [1, 2, 3],\n",
    "    'author_name': ['Тургенев', 'Чехов', 'Островский']\n",
    "}\n",
    "\n",
    "authors = pd.DataFrame(a)\n",
    "\n",
    "b = {\n",
    "    'author_id': [1, 1, 1, 2, 2, 3, 3],\n",
    "    'book_title': ['Отцы и дети', 'Рудин', 'Дворянское гнездо', 'Толстый и тонкий', 'Дама с собачкой', 'Гроза', 'Таланты и поклонники'],\n",
    "    'price': [450, 300, 350, 500, 450, 370, 290]\n",
    "}\n",
    "\n",
    "book = pd.DataFrame(b)\n",
    "print(authors)\n",
    "print(book)\n"
   ]
  },
  {
   "cell_type": "code",
   "execution_count": 4,
   "metadata": {},
   "outputs": [
    {
     "name": "stdout",
     "output_type": "stream",
     "text": [
      "   author_id author_name            book_title  price\n",
      "0          1    Тургенев           Отцы и дети    450\n",
      "1          1    Тургенев                 Рудин    300\n",
      "2          1    Тургенев     Дворянское гнездо    350\n",
      "3          2       Чехов      Толстый и тонкий    500\n",
      "4          2       Чехов       Дама с собачкой    450\n",
      "5          3  Островский                 Гроза    370\n",
      "6          3  Островский  Таланты и поклонники    290\n"
     ]
    }
   ],
   "source": [
    "# Задание 2\n",
    "# Получите датафрейм authors_price, соединив датафреймы authors и books по полю author_id.\n",
    "\n",
    "authors_price = pd.merge(authors, book, on='author_id', how='inner')\n",
    "print(authors_price)\n"
   ]
  },
  {
   "cell_type": "code",
   "execution_count": 7,
   "metadata": {},
   "outputs": [
    {
     "name": "stdout",
     "output_type": "stream",
     "text": [
      "   author_id author_name            book_title  price\n",
      "6          3  Островский  Таланты и поклонники    290\n",
      "1          1    Тургенев                 Рудин    300\n",
      "2          1    Тургенев     Дворянское гнездо    350\n",
      "5          3  Островский                 Гроза    370\n",
      "0          1    Тургенев           Отцы и дети    450\n",
      "4          2       Чехов       Дама с собачкой    450\n",
      "3          2       Чехов      Толстый и тонкий    500\n",
      "   author_id author_name         book_title  price\n",
      "2          1    Тургенев  Дворянское гнездо    350\n",
      "5          3  Островский              Гроза    370\n",
      "0          1    Тургенев        Отцы и дети    450\n",
      "4          2       Чехов    Дама с собачкой    450\n",
      "3          2       Чехов   Толстый и тонкий    500\n"
     ]
    }
   ],
   "source": [
    "# Задание 3\n",
    "# Создайте датафрейм top5, в котором содержатся строки из authors_price с пятью самыми дорогими книгами.\n",
    "\n",
    "authors_price.sort_values(by=\"price\", inplace=True)\n",
    "print(authors_price)\n",
    "\n",
    "top5 = authors_price.tail(5)\n",
    "print(top5)\n"
   ]
  },
  {
   "cell_type": "code",
   "execution_count": 22,
   "metadata": {},
   "outputs": [
    {
     "name": "stdout",
     "output_type": "stream",
     "text": [
      "             max_price  min_price  mean_price\n",
      "author_name                                  \n",
      "Островский         370        290  330.000000\n",
      "Тургенев           450        300  366.666667\n",
      "Чехов              500        450  475.000000\n"
     ]
    }
   ],
   "source": [
    "# Задание 4\n",
    "# Создайте датафрейм authors_stat на основе информации из authors_price. \n",
    "# В датафрейме authors_stat должны быть четыре столбца:\n",
    "# author_name, min_price, max_price и mean_price,\n",
    "# в которых должны содержаться соответственно имя автора, минимальная, максимальная \n",
    "# и средняя цена на книги этого автора.\n",
    "\n",
    "authors_stat = authors_price.groupby('author_name')['price'].agg(\n",
    "    max_price  = 'max',\n",
    "    min_price  = 'min',\n",
    "    mean_price  = 'mean'\n",
    "    )\n",
    "print(authors_stat)"
   ]
  },
  {
   "cell_type": "code",
   "execution_count": 28,
   "metadata": {},
   "outputs": [
    {
     "name": "stdout",
     "output_type": "stream",
     "text": [
      "cover        мягкая  твердая\n",
      "author_name                 \n",
      "Островский      0.0    330.0\n",
      "Тургенев      325.0    450.0\n",
      "Чехов         475.0      0.0\n",
      "cover        мягкая  твердая\n",
      "author_name                 \n",
      "Островский      0.0    330.0\n",
      "Тургенев      325.0    450.0\n",
      "Чехов         475.0      0.0\n"
     ]
    }
   ],
   "source": [
    "# Задание 5**\n",
    "# Создайте новый столбец в датафрейме authors_price под названием cover, \n",
    "# в нем будут располагаться данные о том, какая обложка у данной книги - твердая или мягкая. \n",
    "# В этот столбец поместите данные из следующего списка:\n",
    "# ['твердая', 'мягкая', 'мягкая', 'твердая', 'твердая', 'мягкая', 'мягкая'].\n",
    "# Просмотрите документацию по функции pd.pivot_table с помощью вопросительного знака.\n",
    "# Для каждого автора посчитайте суммарную стоимость книг в твердой и мягкой обложке. \n",
    "# Используйте для этого функцию pd.pivot_table. \n",
    "# При этом столбцы должны называться \"твердая\" и \"мягкая\", а индексами должны быть фамилии авторов. \n",
    "# Пропущенные значения стоимостей заполните нулями, при необходимости загрузите библиотеку Numpy.\n",
    "# Назовите полученный датасет book_info и сохраните его в формат pickle под названием \"book_info.pkl\". \n",
    "# Затем загрузите из этого файла датафрейм и назовите его book_info2. \n",
    "# Удостоверьтесь, что датафреймы book_info и book_info2 идентичны.\n",
    "\n",
    "import numpy as np\n",
    "\n",
    "authors_price['cover'] = ['твердая', 'мягкая', 'мягкая', 'твердая', 'твердая', 'мягкая', 'мягкая']\n",
    "# print(authors_price)\n",
    "\n",
    "book_info = authors_price.pivot_table('price', index='author_name', columns='cover')\n",
    "book_info['мягкая'].fillna(0, inplace=True)\n",
    "book_info['твердая'].fillna(0, inplace=True)\n",
    "print(book_info)\n",
    "\n",
    "book_info.to_pickle('book_info.pkl')\n",
    "\n",
    "book_info2 = pd.read_pickle('book_info.pkl')\n",
    "print(book_info2)\n"
   ]
  }
 ],
 "metadata": {
  "kernelspec": {
   "display_name": "Python 3",
   "language": "python",
   "name": "python3"
  },
  "language_info": {
   "codemirror_mode": {
    "name": "ipython",
    "version": 3
   },
   "file_extension": ".py",
   "mimetype": "text/x-python",
   "name": "python",
   "nbconvert_exporter": "python",
   "pygments_lexer": "ipython3",
   "version": "3.8.5"
  }
 },
 "nbformat": 4,
 "nbformat_minor": 4
}
